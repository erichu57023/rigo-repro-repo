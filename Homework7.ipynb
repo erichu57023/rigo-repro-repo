{
  "nbformat": 4,
  "nbformat_minor": 0,
  "metadata": {
    "colab": {
      "provenance": [],
      "authorship_tag": "ABX9TyMgPmOX/vZDuStdy1sLSJig",
      "include_colab_link": true
    },
    "kernelspec": {
      "name": "python3",
      "display_name": "Python 3"
    },
    "language_info": {
      "name": "python"
    }
  },
  "cells": [
    {
      "cell_type": "markdown",
      "metadata": {
        "id": "view-in-github",
        "colab_type": "text"
      },
      "source": [
        "<a href=\"https://colab.research.google.com/github/erichu57023/rigo-repro-repo/blob/main/Homework7.ipynb\" target=\"_parent\"><img src=\"https://colab.research.google.com/assets/colab-badge.svg\" alt=\"Open In Colab\"/></a>"
      ]
    },
    {
      "cell_type": "markdown",
      "source": [
        "Date: 2024/10/29"
      ],
      "metadata": {
        "id": "QU8SshFwg6-d"
      }
    },
    {
      "cell_type": "code",
      "source": [
        "2 * 5"
      ],
      "metadata": {
        "colab": {
          "base_uri": "https://localhost:8080/"
        },
        "id": "YMHdpA31he6M",
        "outputId": "5129d338-c46b-4537-b7a1-1beb61a6678e"
      },
      "execution_count": null,
      "outputs": [
        {
          "output_type": "execute_result",
          "data": {
            "text/plain": [
              "10"
            ]
          },
          "metadata": {},
          "execution_count": 1
        }
      ]
    },
    {
      "cell_type": "markdown",
      "source": [
        "*Write a brief reflection (no more than 300 words) on how using repositories, tracking changes and publishing like GitHub can help with computational reproducibility.*\n",
        "\n",
        "Learning to use Git for version control and GitHub for publishing has been a godsend for organizing my code and ensuring I can track changes throughout the development of my projects. When working in a team setting, it allows all collaborators to have a centralized place to access code and quickly test new changes. Branching and pull requests allow individuals to contribute in a piecewise way, without risk of breaking the code for other users. Even when it's just me managing a solo repo, it allows me to keep track of the project's version history, and quickly checkout old versions to identify when and where bugs were introduced. Having the codebase stored online means it is very simple to migrate the project to another machine whenever the need arises, and access the data from anywhere, either for testing or logistical reasons.\n",
        "\n",
        "I strongly believe in using open-source frameworks for writing and sharing research-related code whenever possible: it increases access to potentially niche libraries and lowers the barrier of entry for anyone who wants to do research on the same topic. Using GitHub makes it extremely easy to fork existing libraries for custom development, and publish stable releases to coordinate with journal publications. In this way, computational reproducibility is promoted through widespread availability and transparency of analysis code. If any errors are present in the code which would bias the results of an experiment, not only the errors are visible to other researchers, but the entire version history of that error is public as well; this would reduce personal liability. Public repos allow researchers to publish not only code, but also user manuals, wikis, APIs and documentation sites, and establish a forum where outside users can comment on bugs and suggest changes."
      ],
      "metadata": {
        "id": "1JetTr-phloV"
      }
    }
  ]
}